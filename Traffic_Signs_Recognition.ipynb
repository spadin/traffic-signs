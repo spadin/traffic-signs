{
 "cells": [
  {
   "cell_type": "markdown",
   "metadata": {},
   "source": [
    "# Self-Driving Car Engineer Nanodegree\n",
    "\n",
    "## Deep Learning\n",
    "\n",
    "## Project: Build a Traffic Sign Recognition Classifier\n",
    "\n",
    "In this notebook, a template is provided for you to implement your functionality in stages which is required to successfully complete this project. If additional code is required that cannot be included in the notebook, be sure that the Python code is successfully imported and included in your submission, if necessary. Sections that begin with **'Implementation'** in the header indicate where you should begin your implementation for your project. Note that some sections of implementation are optional, and will be marked with **'Optional'** in the header.\n",
    "\n",
    "In addition to implementing code, there will be questions that you must answer which relate to the project and your implementation. Each section where you will answer a question is preceded by a **'Question'** header. Carefully read each question and provide thorough answers in the following text boxes that begin with **'Answer:'**. Your project submission will be evaluated based on your answers to each of the questions and the implementation you provide.\n",
    "\n",
    ">**Note:** Code and Markdown cells can be executed using the **Shift + Enter** keyboard shortcut. In addition, Markdown cells can be edited by typically double-clicking the cell to enter edit mode."
   ]
  },
  {
   "cell_type": "markdown",
   "metadata": {},
   "source": [
    "---\n",
    "\n",
    "## Step 1: Dataset Exploration\n",
    "\n",
    "Visualize the German Traffic Signs Dataset. This is open ended, some suggestions include: plotting traffic signs images, plotting the count of each sign, etc. Be creative!\n",
    "\n",
    "\n",
    "The pickled data is a dictionary with 4 key/value pairs:\n",
    "\n",
    "- features -> the images pixel values, (width, height, channels)\n",
    "- labels -> the label of the traffic sign\n",
    "- sizes -> the original width and height of the image, (width, height)\n",
    "- coords -> coordinates of a bounding box around the sign in the image, (x1, y1, x2, y2). Based the original image (not the resized version)."
   ]
  },
  {
   "cell_type": "code",
   "execution_count": null,
   "metadata": {
    "collapsed": false
   },
   "outputs": [],
   "source": [
    "# Load pickled data\n",
    "import pickle\n",
    "\n",
    "# TODO: fill this in based on where you saved the training and testing data\n",
    "training_file = \"/Users/sandropadin/Downloads/traffic-signs-data/train.p\"\n",
    "testing_file = \"/Users/sandropadin/Downloads/traffic-signs-data/test.p\"\n",
    "\n",
    "with open(training_file, mode='rb') as f:\n",
    "    train = pickle.load(f)\n",
    "with open(testing_file, mode='rb') as f:\n",
    "    test = pickle.load(f)\n",
    "    \n",
    "X_train, y_train = train['features'], train['labels']\n",
    "X_test, y_test = test['features'], test['labels']"
   ]
  },
  {
   "cell_type": "code",
   "execution_count": null,
   "metadata": {
    "collapsed": false
   },
   "outputs": [],
   "source": [
    "### To start off let's do a basic data summary.\n",
    "import numpy as np\n",
    "\n",
    "# TODO: number of training examples\n",
    "n_train = len(X_train)\n",
    "\n",
    "# TODO: number of testing examples\n",
    "n_test = len(X_test)\n",
    "\n",
    "# TODO: what's the shape of an image?\n",
    "image_shape = X_train[0].shape\n",
    "\n",
    "# TODO: how many classes are in the dataset\n",
    "n_classes = len(np.unique(y_train))\n",
    "\n",
    "print(\"Number of training examples =\", n_train)\n",
    "print(\"Number of testing examples =\", n_test)\n",
    "print(\"Image data shape =\", image_shape)\n",
    "print(\"Number of classes =\", n_classes)"
   ]
  },
  {
   "cell_type": "code",
   "execution_count": null,
   "metadata": {
    "collapsed": true
   },
   "outputs": [],
   "source": [
    "### Data exploration visualization goes here.\n",
    "### Feel free to use as many code cells as needed."
   ]
  },
  {
   "cell_type": "markdown",
   "metadata": {},
   "source": [
    "----\n",
    "\n",
    "## Step 2: Design and Test a Model Architecture\n",
    "\n",
    "Design and implement a deep learning model that learns to recognize traffic signs. Train and test your model on the [German Traffic Sign Dataset](http://benchmark.ini.rub.de/?section=gtsrb&subsection=dataset).\n",
    "\n",
    "There are various aspects to consider when thinking about this problem:\n",
    "\n",
    "- Your model can be derived from a deep feedforward net or a deep convolutional network.\n",
    "- Play around preprocessing techniques (normalization, rgb to grayscale, etc)\n",
    "- Number of examples per label (some have more than others).\n",
    "- Generate fake data.\n",
    "\n",
    "Here is an example of a [published baseline model on this problem](http://yann.lecun.com/exdb/publis/pdf/sermanet-ijcnn-11.pdf). It's not required to be familiar with the approach used in the paper but, it's good practice to try to read papers like these."
   ]
  },
  {
   "cell_type": "markdown",
   "metadata": {},
   "source": [
    "### Implementation\n",
    "\n",
    "Use the code cell (or multiple code cells, if necessary) to implement the first step of your project. Once you have completed your implementation and are satisfied with the results, be sure to thoroughly answer the questions that follow."
   ]
  },
  {
   "cell_type": "code",
   "execution_count": null,
   "metadata": {
    "collapsed": false
   },
   "outputs": [],
   "source": [
    "### Preprocess the data here.\n",
    "### Feel free to use as many code cells as needed.\n",
    "import numpy as np\n",
    "import cv2\n",
    "from tqdm import tqdm\n",
    "from sklearn.preprocessing import MinMaxScaler, LabelBinarizer\n",
    "\n",
    "\n",
    "def grayscale(images):\n",
    "    \"\"\"Convert to from RGB to Grayscale\"\"\"\n",
    "    gray_images = []\n",
    "\n",
    "    for image in images:\n",
    "        gray_image = cv2.cvtColor(image, cv2.COLOR_RGB2GRAY)\n",
    "        gray_images.append(gray_image)\n",
    "        \n",
    "    return np.array(gray_images)\n",
    "\n",
    "def normalize(images):\n",
    "    \"\"\"Divide image date by 255 so range is between 0 and 1\"\"\"\n",
    "    return images / 255.\n",
    "\n",
    "def flatten(images):\n",
    "    \"\"\"Flatten the image data\"\"\"\n",
    "    return images.reshape(-1, np.prod(images[0].shape))\n",
    "\n",
    "def prepare_images(images):\n",
    "    \"\"\"Run images through preprocessing steps\"\"\"\n",
    "    images = images.astype(np.float32)\n",
    "    images = grayscale(images)\n",
    "    images = normalize(images)\n",
    "    images = flatten(images)\n",
    "    return images\n",
    "\n",
    "def prepare_labels(labels, encoder):\n",
    "    labels = encoder.transform(labels)\n",
    "    labels = labels.astype(np.float32)\n",
    "    return labels\n",
    "\n",
    "# Save the original shape of the images\n",
    "image_shape = X_train[0].shape\n",
    "\n",
    "# Preprocess training and test data\n",
    "print(\"Preparing training images\")\n",
    "images_train = prepare_images(X_train)\n",
    "\n",
    "print(\"Preparing test images\")\n",
    "images_test = prepare_images(X_test)\n",
    "\n",
    "# Preprocess training and test labels\n",
    "encoder = LabelBinarizer()\n",
    "encoder.fit(y_train)\n",
    "\n",
    "print(\"Preparing training labels\")\n",
    "labels_train = prepare_labels(y_train, encoder)\n",
    "\n",
    "print(\"Preparing test labels\")\n",
    "labels_test = prepare_labels(y_test, encoder)"
   ]
  },
  {
   "cell_type": "markdown",
   "metadata": {},
   "source": [
    "### Question 1 \n",
    "\n",
    "_Describe the techniques used to preprocess the data._"
   ]
  },
  {
   "cell_type": "markdown",
   "metadata": {},
   "source": [
    "**Answer:**"
   ]
  },
  {
   "cell_type": "code",
   "execution_count": null,
   "metadata": {
    "collapsed": false
   },
   "outputs": [],
   "source": [
    "### Generate data additional (if you want to!)\n",
    "### and split the data into training/validation/testing sets here.\n",
    "### Feel free to use as many code cells as needed.\n",
    "from sklearn.model_selection import train_test_split\n",
    "from sklearn.utils import shuffle\n",
    "\n",
    "def split(features, labels):\n",
    "    return train_test_split(\n",
    "        features,\n",
    "        labels,\n",
    "        test_size=0.05,\n",
    "        random_state=42)\n",
    "\n",
    "def randomize(features, labels):\n",
    "    return shuffle(\n",
    "        features,\n",
    "        labels,\n",
    "        random_state=42)\n",
    "\n",
    "# Rename variables to be clearer\n",
    "train_features, train_labels = randomize(images_train, labels_train)\n",
    "\n",
    "test_features = images_test\n",
    "test_labels = labels_test\n",
    "\n",
    "train_features, valid_features, train_labels, valid_labels = split(\n",
    "    train_features,\n",
    "    train_labels)\n",
    "\n",
    "print(\"New number of training examples =\", len(train_features))\n",
    "print(\"Number of validation examples =\", len(valid_features))"
   ]
  },
  {
   "cell_type": "markdown",
   "metadata": {},
   "source": [
    "### Question 2\n",
    "\n",
    "_Describe how you set up the training, validation and testing data for your model. If you generated additional data, why?_"
   ]
  },
  {
   "cell_type": "markdown",
   "metadata": {},
   "source": [
    "**Answer:**"
   ]
  },
  {
   "cell_type": "code",
   "execution_count": null,
   "metadata": {
    "collapsed": true
   },
   "outputs": [],
   "source": [
    "import tensorflow as tf\n",
    "import numpy as np\n",
    "\n",
    "def hidden_layer_network(features, features_count, labels_count):\n",
    "    n_hidden_layer_1 = 128\n",
    "\n",
    "    weights = {\n",
    "        'hidden_layer_1': tf.Variable(tf.truncated_normal((features_count, n_hidden_layer_1), stddev=0.01), name='W_hidden_layer_1'),\n",
    "        'out': tf.Variable(tf.truncated_normal((n_hidden_layer_1, labels_count), stddev=0.01), name='W_out')}\n",
    "\n",
    "    biases = {\n",
    "        'hidden_layer_1': tf.Variable(tf.zeros((n_hidden_layer_1,)), name='b_hidden_layer_1'),\n",
    "        'out': tf.Variable(tf.zeros((labels_count,)), name='b_out')}\n",
    "\n",
    "\n",
    "    hidden_layer_1 = tf.add(tf.matmul(features, weights['hidden_layer_1']), biases['hidden_layer_1'])\n",
    "    hidden_layer_1 = tf.nn.relu(hidden_layer_1)\n",
    "\n",
    "    return tf.add(tf.matmul(hidden_layer_1, weights['out']), biases['out'])\n",
    "\n",
    "def setup_network():\n",
    "    features_count = np.prod(train_features[0].shape)\n",
    "    labels_count = n_classes\n",
    "    counts = (features_count, labels_count)\n",
    "\n",
    "    features = tf.placeholder(tf.float32)\n",
    "    labels = tf.placeholder(tf.float32)\n",
    "\n",
    "    train_feed_dict = {features: train_features, labels: train_labels}\n",
    "    valid_feed_dict = {features: valid_features, labels: valid_labels}\n",
    "    test_feed_dict = {features: test_features, labels: test_labels}\n",
    "    feed_dicts = (train_feed_dict, valid_feed_dict, test_feed_dict)\n",
    "    \n",
    "    return (features, labels, counts, feed_dicts)\n",
    "    \n",
    "def setup_accuracy(logits, labels):\n",
    "    loss = tf.reduce_mean(tf.nn.softmax_cross_entropy_with_logits(logits, labels))\n",
    "\n",
    "    # Determine if the predictions are correct\n",
    "    is_correct_prediction = tf.equal(tf.argmax(logits, 1), tf.argmax(labels, 1))\n",
    "\n",
    "    # Calculate the accuracy of the predictions\n",
    "    accuracy = tf.reduce_mean(tf.cast(is_correct_prediction, tf.float32))\n",
    "    \n",
    "    return (loss, accuracy)\n",
    "    "
   ]
  },
  {
   "cell_type": "code",
   "execution_count": null,
   "metadata": {
    "collapsed": false
   },
   "outputs": [],
   "source": [
    "import tensorflow as tf\n",
    "import numpy as np\n",
    "from tensorflow.contrib.layers import flatten\n",
    "\n",
    "def LeNet(x):\n",
    "    # Reshape from 2D to 4D. This prepares the data for\n",
    "    # convolutional and pooling layers.\n",
    "    x = tf.reshape(x, (-1, 32, 32, 1))\n",
    "    \n",
    "    # Resize to 32x32.\n",
    "    x = tf.image.resize_images(x, (32, 32))\n",
    "\n",
    "    # TODO: Define the LeNet architecture.\n",
    "    # Return the result of the last fully connected layer.\n",
    "\n",
    "    # 28x28x6 Convolution\n",
    "    conv1_W = tf.Variable(tf.truncated_normal(shape=(5, 5, 1, 6)))\n",
    "    conv1_b = tf.Variable(tf.constant(0.0, shape=(6,)))\n",
    "    conv1 = tf.nn.conv2d(x, conv1_W, strides=[1, 1, 1, 1], padding='VALID') + conv1_b\n",
    "\n",
    "    # Activation (ReLU)\n",
    "    conv1 = tf.nn.relu(conv1)\n",
    "\n",
    "    # 14x16x6 Max pooling\n",
    "    conv1 = tf.nn.max_pool(conv1, ksize=[1, 2, 2, 1], strides=[1, 2, 2, 1], padding='VALID')\n",
    "\n",
    "    # 10x10x16 Convolution\n",
    "    conv2_W = tf.Variable(tf.truncated_normal(shape=(5, 5, 6, 16)))\n",
    "    conv2_b = tf.Variable(tf.constant(0.0, shape=(16,)))\n",
    "    conv2 = tf.nn.conv2d(conv1, conv2_W, strides=[1, 1, 1, 1], padding='VALID') + conv2_b\n",
    "\n",
    "    # Activation (ReLU)\n",
    "    conv2 = tf.nn.relu(conv2)\n",
    "\n",
    "    # 5x5x6 Max pooling\n",
    "    conv2 = tf.nn.max_pool(conv2, ksize=[1, 2, 2, 1], strides=[1, 2, 2, 1], padding='VALID')\n",
    "\n",
    "    # Flatten (tf.contrib.layers.flatten\n",
    "    fc1 = flatten(conv2)\n",
    "\n",
    "    # Fully-connected layer (120 outputs)\n",
    "    fc1_outputs = 120\n",
    "    fc1_shape = (fc1.get_shape().as_list()[-1], fc1_outputs)\n",
    "    fc1_W = tf.Variable(tf.truncated_normal(shape=fc1_shape))\n",
    "    fc1_b = tf.Variable(tf.constant(0.0, shape=(fc1_outputs,)))\n",
    "    fc1 = tf.matmul(fc1, fc1_W) + fc1_b\n",
    "\n",
    "    # Activation (ReLU)\n",
    "    fc1 = tf.nn.relu(fc1)\n",
    "\n",
    "    # Fully-connected layer (43 outputs) = (43 classes)\n",
    "    fc2_outputs = 43\n",
    "    fc2_shape = (fc1_outputs, fc2_outputs)\n",
    "    fc2_W = tf.Variable(tf.truncated_normal(shape=fc2_shape))\n",
    "    fc2_b = tf.Variable(tf.constant(0.0, shape=(fc2_outputs,)))\n",
    "    fc2 = tf.matmul(fc1, fc2_W) + fc2_b\n",
    "\n",
    "    return fc2"
   ]
  },
  {
   "cell_type": "code",
   "execution_count": null,
   "metadata": {
    "collapsed": false
   },
   "outputs": [],
   "source": [
    "### Define your architecture here.\n",
    "### Feel free to use as many code cells as needed.\n",
    "\n",
    "\n",
    "features, labels, counts, feed_dicts = setup_network()\n",
    "features_count, labels_count = counts\n",
    "train_feed_dict, valid_feed_dict, test_feed_dict = feed_dicts\n",
    "\n",
    "# Hidden layer neural network\n",
    "logits = hidden_layer_network(features, features_count, labels_count)\n",
    "\n",
    "# LeNet CNN\n",
    "# logits = LeNet(features)\n",
    "\n",
    "loss, accuracy = setup_accuracy(logits, labels)\n"
   ]
  },
  {
   "cell_type": "markdown",
   "metadata": {},
   "source": [
    "### Question 3\n",
    "\n",
    "_What does your final architecture look like? (Type of model, layers, sizes, connectivity, etc.)  For reference on how to build a deep neural network using TensorFlow, see [Deep Neural Network in TensorFlow\n",
    "](https://classroom.udacity.com/nanodegrees/nd013/parts/fbf77062-5703-404e-b60c-95b78b2f3f9e/modules/6df7ae49-c61c-4bb2-a23e-6527e69209ec/lessons/b516a270-8600-4f93-a0a3-20dfeabe5da6/concepts/83a3a2a2-a9bd-4b7b-95b0-eb924ab14432) from the classroom._\n"
   ]
  },
  {
   "cell_type": "markdown",
   "metadata": {},
   "source": [
    "**Answer:**\n",
    "\n",
    "For the final architecture I used a deep neural network with a single hidden layer having a depth of 128.\n",
    "\n",
    "I also attempted the LeNet architecture we learned in the lecture. The architecture has the following layers and sizes.\n",
    "\n",
    "    * 28x28x6 Convolution\n",
    "    * Activation (ReLU)\n",
    "    * 14x16x6 Max pooling\n",
    "    * 10x10x16 Convolution\n",
    "    * Activation (ReLU)\n",
    "    * 5x5x6 Max pooling\n",
    "    * Flatten\n",
    "    * Fully-connected layer (120 outputs)\n",
    "    * Activation (ReLU)\n",
    "    * Fully-connected layer (43 outputs) = (43 classes)\n",
    "    \n",
    "I opted for the deep neural network because I was getting better validation and test accuracy results"
   ]
  },
  {
   "cell_type": "code",
   "execution_count": null,
   "metadata": {
    "collapsed": false
   },
   "outputs": [],
   "source": [
    "### Train your model here.\n",
    "### Feel free to use as many code cells as needed.\n",
    "import math\n",
    "import time\n",
    "\n",
    "epochs = 250\n",
    "batch_size = 128\n",
    "\n",
    "# Gradient Descent\n",
    "optimizer = tf.train.AdamOptimizer().minimize(loss)\n",
    "\n",
    "# The accuracy measured against the validation set\n",
    "validation_accuracy = 0.0\n",
    "training_accuracy = 0.0\n",
    "\n",
    "saver = tf.train.Saver()\n",
    "\n",
    "start_time = time.clock()\n",
    "\n",
    "with tf.Session() as session:\n",
    "    session.run(tf.initialize_all_variables())\n",
    "    batch_count = int(math.ceil(len(train_features)/batch_size))\n",
    "\n",
    "    for epoch_i in range(epochs):\n",
    "        # The training cycle\n",
    "        for batch_i in range(batch_count):\n",
    "            # Get a batch of training features and labels\n",
    "            batch_start = batch_i*batch_size\n",
    "            batch_features = train_features[batch_start:batch_start + batch_size]\n",
    "            batch_labels = train_labels[batch_start:batch_start + batch_size]\n",
    "\n",
    "            # Run optimizer and get loss\n",
    "            _, l = session.run(\n",
    "                [optimizer, loss],\n",
    "                feed_dict={features: batch_features, labels: batch_labels})\n",
    "        \n",
    "        if epoch_i % 5 == 4:\n",
    "            # Check accuracy against Validation data\n",
    "            validation_accuracy = session.run(accuracy, feed_dict=valid_feed_dict)\n",
    "            print('[Epoch {:>2}/{:>2}] validation_accuracy={:>.5f}, elapsed_time={:>.5f}'.format(epoch_i+1, epochs, validation_accuracy,(time.clock() - start_time)))\n",
    "\n",
    "    # Training accuracy\n",
    "    training_accuracy = session.run(accuracy, feed_dict=train_feed_dict)\n",
    "    \n",
    "    # Check accuracy against test data\n",
    "    test_accuracy = session.run(accuracy, feed_dict=test_feed_dict)\n",
    "    \n",
    "    # Save checkoint\n",
    "    save_path = saver.save(session, \"./model.ckpt\")\n",
    "    print(\"Model saved in file: {}\".format(save_path))\n",
    "\n",
    "print('Training accuracy at {}'.format(training_accuracy))\n",
    "print('Validation accuracy at {}'.format(validation_accuracy))\n",
    "print('Test accuracy at {}'.format(test_accuracy))\n",
    "\n",
    "end_time = time.clock()\n",
    "print('Elapsed time {}'.format(end_time - start_time))"
   ]
  },
  {
   "cell_type": "markdown",
   "metadata": {},
   "source": [
    "### Question 4\n",
    "\n",
    "_How did you train your model? (Type of optimizer, batch size, epochs, hyperparameters, etc.)_\n"
   ]
  },
  {
   "cell_type": "markdown",
   "metadata": {},
   "source": [
    "**Answer:**\n",
    "\n",
    "I used the AdamOptimizer in order to reduce the number of hyperparameters. The AdamOptimizer doesn't require a learning rate parameter. I ran the optimizer over 250 epochs with a batch size of 250."
   ]
  },
  {
   "cell_type": "markdown",
   "metadata": {},
   "source": [
    "### Question 5\n",
    "\n",
    "\n",
    "_What approach did you take in coming up with a solution to this problem?_"
   ]
  },
  {
   "cell_type": "markdown",
   "metadata": {},
   "source": [
    "**Answer:**\n",
    "\n",
    "Not sure if this is the best solution to be honest. I tested a deep neural network as well which actually gave me better test accuracy. I initially started with creating an architecture, running it over a few epochs, then increasing, and keeping the results in a spreadsheet. Then I realized, through reading the forums, that I could just print out the validation accuracy after every epoch so gauge progress, so I switched to using that approach."
   ]
  },
  {
   "cell_type": "markdown",
   "metadata": {},
   "source": [
    "---\n",
    "\n",
    "## Step 3: Test a Model on New Images\n",
    "\n",
    "Take several pictures of traffic signs that you find on the web or around you (at least five), and run them through your classifier on your computer to produce example results. The classifier might not recognize some local signs but it could prove interesting nonetheless.\n",
    "\n",
    "You may find `signnames.csv` useful as it contains mappings from the class id (integer) to the actual sign name."
   ]
  },
  {
   "cell_type": "markdown",
   "metadata": {},
   "source": [
    "### Implementation\n",
    "\n",
    "Use the code cell (or multiple code cells, if necessary) to implement the first step of your project. Once you have completed your implementation and are satisfied with the results, be sure to thoroughly answer the questions that follow."
   ]
  },
  {
   "cell_type": "code",
   "execution_count": null,
   "metadata": {
    "collapsed": false
   },
   "outputs": [],
   "source": [
    "### Load the images and plot them here.\n",
    "### Feel free to use as many code cells as needed.\n",
    "import cv2\n",
    "import numpy as np\n",
    "import csv\n",
    "\n",
    "def load_image(filename, path=\"./signs/\"):\n",
    "    image = cv2.imread(\"{}{}\".format(path, filename))\n",
    "    image = image.astype(np.float32)\n",
    "    image = cv2.cvtColor(image, cv2.COLOR_BGR2GRAY)\n",
    "    image /= 255.\n",
    "    image = image.reshape(np.prod(image.shape))\n",
    "    \n",
    "    return np.array(image)\n",
    "\n",
    "def load_images(filenames):\n",
    "    images = []\n",
    "    \n",
    "    for filename in filenames:\n",
    "        images.append(load_image(filename))\n",
    "        \n",
    "    return np.array(images)\n",
    "\n",
    "\n",
    "label_names = {}\n",
    "\n",
    "with open('signnames.csv') as csvfile:\n",
    "    reader = csv.reader(csvfile, delimiter=',')\n",
    "    for (label, name) in reader:\n",
    "        label_names[label] = name\n",
    "        \n",
    "\n",
    "def label_text(label):\n",
    "    label = str(label)\n",
    "    return label_names[label]\n",
    "    "
   ]
  },
  {
   "cell_type": "markdown",
   "metadata": {},
   "source": [
    "### Question 6\n",
    "\n",
    "_Choose five candidate images of traffic signs and provide them in the report. Are there any particular qualities of the image(s) that might make classification difficult? It would be helpful to plot the images in the notebook._\n",
    "\n"
   ]
  },
  {
   "cell_type": "markdown",
   "metadata": {},
   "source": [
    "**Answer:**"
   ]
  },
  {
   "cell_type": "code",
   "execution_count": null,
   "metadata": {
    "collapsed": false
   },
   "outputs": [],
   "source": [
    "### Run the predictions here.\n",
    "### Feel free to use as many code cells as needed.\n",
    "import tensorflow as tf\n",
    "\n",
    "filenames = [\n",
    "    'bicycles-crossing.jpg',\n",
    "    'children-crossing.jpg',\n",
    "    'road-work.jpg',\n",
    "    'speed-limit-20.jpg',\n",
    "    'speed-limit-30.jpg']\n",
    "\n",
    "images = load_images(filenames)\n",
    "\n",
    "saver = tf.train.Saver()\n",
    "\n",
    "with tf.Session() as session:\n",
    "    saver.restore(session, \"./model.ckpt\")\n",
    "    print(\"Model restored.\")\n",
    "    \n",
    "    prediction_op = tf.argmax(logits, 1)\n",
    "    predictions = session.run(prediction_op, feed_dict={features: images})\n",
    "    \n",
    "    print(\"{:30}{:8}{:20}\".format(\"filename\", \"label\", \"prediction\"))\n",
    "    for idx, prediction in enumerate(predictions):\n",
    "        print(\"{:30}{:<8}{:20}\".format(filenames[idx], prediction, label_text(prediction)))"
   ]
  },
  {
   "cell_type": "markdown",
   "metadata": {},
   "source": [
    "### Question 7\n",
    "\n",
    "_Is your model able to perform equally well on captured pictures or a live camera stream when compared to testing on the dataset?_\n"
   ]
  },
  {
   "cell_type": "markdown",
   "metadata": {},
   "source": [
    "**Answer:**\n",
    "\n",
    "No, I don't get nearly as a good accuracy as I do from the test data."
   ]
  },
  {
   "cell_type": "code",
   "execution_count": null,
   "metadata": {
    "collapsed": false
   },
   "outputs": [],
   "source": [
    "### Visualize the softmax probabilities here.\n",
    "### Feel free to use as many code cells as needed.\n",
    "import tensorflow as tf\n",
    "import matplotlib.pyplot as plt\n",
    "\n",
    "def plot_top_k_probabilities(labels, probabilities, title):\n",
    "    print(title)\n",
    "    plt.plot(list(labels), list(probabilities), 'ro')\n",
    "    x1, x2, y1, y2 = plt.axis()\n",
    "    plt.axis((x1-1,x2+1,y1,y2+0.1))\n",
    "\n",
    "    plt.ylabel('Probability') \n",
    "    plt.show()\n",
    "\n",
    "filenames = [\n",
    "    'bicycles-crossing.jpg',\n",
    "    'children-crossing.jpg',\n",
    "    'road-work.jpg',\n",
    "    'speed-limit-20.jpg',\n",
    "    'speed-limit-30.jpg']\n",
    "\n",
    "filename_labels = [\n",
    "    29,\n",
    "    28,\n",
    "    25,\n",
    "    0,\n",
    "    1]\n",
    "\n",
    "images = load_images(filenames)\n",
    "\n",
    "saver = tf.train.Saver()\n",
    "\n",
    "with tf.Session() as session:\n",
    "    saver.restore(session, \"./model.ckpt\")\n",
    "    print(\"Model restored.\")\n",
    "    \n",
    "    prediction_op = tf.nn.softmax(logits)\n",
    "    top_five = tf.nn.top_k(prediction_op, k=5, sorted=True, name=None)\n",
    "    predictions = session.run(top_five, feed_dict={features: images})\n",
    "    prediction_values, prediction_indices = predictions\n",
    "    \n",
    "    for idx, (probabilities, labels) in enumerate(zip(prediction_values, prediction_indices)):\n",
    "        title = \"Predicted ({}) {}, Actual ({}) {}\".format(labels[0], label_text(labels[0]), filename_labels[idx], filenames[idx])\n",
    "        plot_top_k_probabilities(labels, probabilities, title)\n",
    "    \n",
    "#     print(\"{:30}{:20}\".format(\"filename\", \"prediction\"))\n",
    "#     for idx, prediction in enumerate(predictions):\n",
    "#         print(\"{:30}{:20}\".format(filenames[idx], label_text(prediction)))"
   ]
  },
  {
   "cell_type": "markdown",
   "metadata": {},
   "source": [
    "### Question 8\n",
    "\n",
    "*Use the model's softmax probabilities to visualize the **certainty** of its predictions, [`tf.nn.top_k`](https://www.tensorflow.org/versions/r0.11/api_docs/python/nn.html#top_k) could prove helpful here. Which predictions is the model certain of? Uncertain? If the model was incorrect in its initial prediction, does the correct prediction appear in the top k? (k should be 5 at most)*\n"
   ]
  },
  {
   "cell_type": "markdown",
   "metadata": {},
   "source": [
    "**Answer:**\n",
    "\n",
    "Unfortunately, the correct labels don't appear to show up in the top 5 of the incorrectly labeled predictions."
   ]
  },
  {
   "cell_type": "markdown",
   "metadata": {},
   "source": [
    "### Question 9\n",
    "_If necessary, provide documentation for how an interface was built for your model to load and classify newly-acquired images._\n"
   ]
  },
  {
   "cell_type": "markdown",
   "metadata": {},
   "source": [
    "**Answer:**"
   ]
  },
  {
   "cell_type": "markdown",
   "metadata": {},
   "source": [
    "> **Note**: Once you have completed all of the code implementations and successfully answered each question above, you may finalize your work by exporting the iPython Notebook as an HTML document. You can do this by using the menu above and navigating to  \\n\",\n",
    "    \"**File -> Download as -> HTML (.html)**. Include the finished document along with this notebook as your submission."
   ]
  },
  {
   "cell_type": "code",
   "execution_count": null,
   "metadata": {
    "collapsed": true
   },
   "outputs": [],
   "source": []
  }
 ],
 "metadata": {
  "anaconda-cloud": {},
  "kernelspec": {
   "display_name": "Python [default]",
   "language": "python",
   "name": "python3"
  },
  "language_info": {
   "codemirror_mode": {
    "name": "ipython",
    "version": 3
   },
   "file_extension": ".py",
   "mimetype": "text/x-python",
   "name": "python",
   "nbconvert_exporter": "python",
   "pygments_lexer": "ipython3",
   "version": "3.5.2"
  }
 },
 "nbformat": 4,
 "nbformat_minor": 1
}
