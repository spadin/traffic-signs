{
 "cells": [
  {
   "cell_type": "markdown",
   "metadata": {},
   "source": [
    "# Self-Driving Car Engineer Nanodegree\n",
    "\n",
    "## Deep Learning\n",
    "\n",
    "## Project: Build a Traffic Sign Recognition Classifier\n",
    "\n",
    "In this notebook, a template is provided for you to implement your functionality in stages which is required to successfully complete this project. If additional code is required that cannot be included in the notebook, be sure that the Python code is successfully imported and included in your submission, if necessary. Sections that begin with **'Implementation'** in the header indicate where you should begin your implementation for your project. Note that some sections of implementation are optional, and will be marked with **'Optional'** in the header.\n",
    "\n",
    "In addition to implementing code, there will be questions that you must answer which relate to the project and your implementation. Each section where you will answer a question is preceded by a **'Question'** header. Carefully read each question and provide thorough answers in the following text boxes that begin with **'Answer:'**. Your project submission will be evaluated based on your answers to each of the questions and the implementation you provide.\n",
    "\n",
    ">**Note:** Code and Markdown cells can be executed using the **Shift + Enter** keyboard shortcut. In addition, Markdown cells can be edited by typically double-clicking the cell to enter edit mode."
   ]
  },
  {
   "cell_type": "markdown",
   "metadata": {},
   "source": [
    "---\n",
    "\n",
    "## Step 1: Dataset Exploration\n",
    "\n",
    "Visualize the German Traffic Signs Dataset. This is open ended, some suggestions include: plotting traffic signs images, plotting the count of each sign, etc. Be creative!\n",
    "\n",
    "\n",
    "The pickled data is a dictionary with 4 key/value pairs:\n",
    "\n",
    "- features -> the images pixel values, (width, height, channels)\n",
    "- labels -> the label of the traffic sign\n",
    "- sizes -> the original width and height of the image, (width, height)\n",
    "- coords -> coordinates of a bounding box around the sign in the image, (x1, y1, x2, y2). Based the original image (not the resized version)."
   ]
  },
  {
   "cell_type": "code",
   "execution_count": 65,
   "metadata": {
    "collapsed": false
   },
   "outputs": [],
   "source": [
    "# Load pickled data\n",
    "import pickle\n",
    "\n",
    "# TODO: fill this in based on where you saved the training and testing data\n",
    "training_file = \"/Users/sandropadin/Downloads/traffic-signs-data/train.p\"\n",
    "testing_file = \"/Users/sandropadin/Downloads/traffic-signs-data/test.p\"\n",
    "\n",
    "with open(training_file, mode='rb') as f:\n",
    "    train = pickle.load(f)\n",
    "with open(testing_file, mode='rb') as f:\n",
    "    test = pickle.load(f)\n",
    "    \n",
    "X_train, y_train = train['features'], train['labels']\n",
    "X_test, y_test = test['features'], test['labels']"
   ]
  },
  {
   "cell_type": "code",
   "execution_count": 66,
   "metadata": {
    "collapsed": false
   },
   "outputs": [
    {
     "name": "stdout",
     "output_type": "stream",
     "text": [
      "Number of training examples = 39209\n",
      "Number of testing examples = 12630\n",
      "Image data shape = (32, 32, 3)\n",
      "Number of classes = 43\n"
     ]
    }
   ],
   "source": [
    "### To start off let's do a basic data summary.\n",
    "import numpy as np\n",
    "\n",
    "# TODO: number of training examples\n",
    "n_train = len(X_train)\n",
    "\n",
    "# TODO: number of testing examples\n",
    "n_test = len(X_test)\n",
    "\n",
    "# TODO: what's the shape of an image?\n",
    "image_shape = X_train[0].shape\n",
    "\n",
    "# TODO: how many classes are in the dataset\n",
    "n_classes = len(np.unique(y_train))\n",
    "\n",
    "print(\"Number of training examples =\", n_train)\n",
    "print(\"Number of testing examples =\", n_test)\n",
    "print(\"Image data shape =\", image_shape)\n",
    "print(\"Number of classes =\", n_classes)"
   ]
  },
  {
   "cell_type": "code",
   "execution_count": 1,
   "metadata": {
    "collapsed": true
   },
   "outputs": [],
   "source": [
    "### Data exploration visualization goes here.\n",
    "### Feel free to use as many code cells as needed."
   ]
  },
  {
   "cell_type": "markdown",
   "metadata": {},
   "source": [
    "----\n",
    "\n",
    "## Step 2: Design and Test a Model Architecture\n",
    "\n",
    "Design and implement a deep learning model that learns to recognize traffic signs. Train and test your model on the [German Traffic Sign Dataset](http://benchmark.ini.rub.de/?section=gtsrb&subsection=dataset).\n",
    "\n",
    "There are various aspects to consider when thinking about this problem:\n",
    "\n",
    "- Your model can be derived from a deep feedforward net or a deep convolutional network.\n",
    "- Play around preprocessing techniques (normalization, rgb to grayscale, etc)\n",
    "- Number of examples per label (some have more than others).\n",
    "- Generate fake data.\n",
    "\n",
    "Here is an example of a [published baseline model on this problem](http://yann.lecun.com/exdb/publis/pdf/sermanet-ijcnn-11.pdf). It's not required to be familiar with the approach used in the paper but, it's good practice to try to read papers like these."
   ]
  },
  {
   "cell_type": "markdown",
   "metadata": {},
   "source": [
    "### Implementation\n",
    "\n",
    "Use the code cell (or multiple code cells, if necessary) to implement the first step of your project. Once you have completed your implementation and are satisfied with the results, be sure to thoroughly answer the questions that follow."
   ]
  },
  {
   "cell_type": "code",
   "execution_count": 67,
   "metadata": {
    "collapsed": false
   },
   "outputs": [
    {
     "name": "stderr",
     "output_type": "stream",
     "text": [
      "100%|██████████| 39209/39209 [00:00<00:00, 142892.55it/s]\n",
      "100%|██████████| 39209/39209 [00:03<00:00, 10188.08it/s]\n",
      "100%|██████████| 12630/12630 [00:00<00:00, 199800.33it/s]\n",
      "100%|██████████| 12630/12630 [00:01<00:00, 11555.79it/s]\n"
     ]
    }
   ],
   "source": [
    "### Preprocess the data here.\n",
    "### Feel free to use as many code cells as needed.\n",
    "import numpy as np\n",
    "import cv2\n",
    "from tqdm import tqdm\n",
    "from sklearn.preprocessing import MinMaxScaler, LabelBinarizer\n",
    "\n",
    "def grayscale(images):\n",
    "    \"\"\"Convert to from RGB to Grayscale\"\"\"\n",
    "    gray_images = []\n",
    "\n",
    "    for image in tqdm(images):\n",
    "        gray_image = cv2.cvtColor(image, cv2.COLOR_RGB2GRAY)\n",
    "        gray_images.append(gray_image)\n",
    "        \n",
    "    return np.array(gray_images)\n",
    "\n",
    "def normalize(images):\n",
    "    \"\"\"Normalize image data to be between 0.1 and 0.9\"\"\"\n",
    "    normalized_images = []\n",
    "    scaler = MinMaxScaler(feature_range=(0.1, 0.9))\n",
    "    \n",
    "    for image in tqdm(images):\n",
    "        normalized_image = scaler.fit_transform(image)\n",
    "        normalized_images.append(normalized_image)\n",
    "        \n",
    "    return np.array(normalized_images)\n",
    "\n",
    "def flatten(images):\n",
    "    \"\"\"Flatten the image data\"\"\"\n",
    "    return images.reshape(-1, np.prod(images[0].shape))\n",
    "\n",
    "def prepare(images, kind=\"\"):\n",
    "    \"\"\"Run images through preprocessing steps\"\"\"\n",
    "    images = images.astype(np.float32)\n",
    "    images = grayscale(images)\n",
    "    images = normalize(images)\n",
    "    images = flatten(images)\n",
    "    return images\n",
    "\n",
    "def one_hot_encode(labels):\n",
    "    encoder = LabelBinarizer()\n",
    "    encoder.fit(labels)\n",
    "\n",
    "# Save the original shape of the images\n",
    "image_shape = X_train[0].shape\n",
    "\n",
    "# Preprocess training and test data\n",
    "images_train = prepare(X_train)\n",
    "images_test = prepare(X_test)\n",
    "\n",
    "# Preprocess training and test labels\n",
    "labels_train = y_train\n",
    "labels_test = y_test\n",
    "\n",
    "encoder = LabelBinarizer()\n",
    "encoder.fit(labels_train)\n",
    "\n",
    "labels_train = encoder.transform(labels_train)\n",
    "labels_train = labels_train.astype(np.float32)\n",
    "\n",
    "labels_test = encoder.transform(labels_test)\n",
    "labels_test = labels_test.astype(np.float32)\n"
   ]
  },
  {
   "cell_type": "markdown",
   "metadata": {},
   "source": [
    "### Question 1 \n",
    "\n",
    "_Describe the techniques used to preprocess the data._"
   ]
  },
  {
   "cell_type": "markdown",
   "metadata": {},
   "source": [
    "**Answer:**"
   ]
  },
  {
   "cell_type": "code",
   "execution_count": 68,
   "metadata": {
    "collapsed": false
   },
   "outputs": [
    {
     "name": "stdout",
     "output_type": "stream",
     "text": [
      "New number of training examples = 37248\n",
      "Number of validation examples = 1961\n"
     ]
    }
   ],
   "source": [
    "### Generate data additional (if you want to!)\n",
    "### and split the data into training/validation/testing sets here.\n",
    "### Feel free to use as many code cells as needed.\n",
    "from sklearn.model_selection import train_test_split\n",
    "\n",
    "def split(features, labels):\n",
    "    return train_test_split(\n",
    "        features,\n",
    "        labels,\n",
    "        test_size=0.05,\n",
    "        random_state=42)\n",
    "\n",
    "# Rename variables to be clearer\n",
    "train_features = images_train\n",
    "train_labels = labels_train\n",
    "\n",
    "test_features = images_test\n",
    "test_labels = labels_test\n",
    "\n",
    "train_features, valid_features, train_labels, valid_labels = split(\n",
    "    train_features,\n",
    "    train_labels)\n",
    "\n",
    "print(\"New number of training examples =\", len(train_features))\n",
    "print(\"Number of validation examples =\", len(valid_features))"
   ]
  },
  {
   "cell_type": "markdown",
   "metadata": {},
   "source": [
    "### Question 2\n",
    "\n",
    "_Describe how you set up the training, validation and testing data for your model. If you generated additional data, why?_"
   ]
  },
  {
   "cell_type": "markdown",
   "metadata": {},
   "source": [
    "**Answer:**"
   ]
  },
  {
   "cell_type": "code",
   "execution_count": 86,
   "metadata": {
    "collapsed": false
   },
   "outputs": [],
   "source": [
    "### Define your architecture here.\n",
    "### Feel free to use as many code cells as needed.\n",
    "\n",
    "import tensorflow as tf\n",
    "import numpy as np\n",
    "\n",
    "features_count = np.prod(train_features[0].shape)\n",
    "labels_count = 43\n",
    "\n",
    "features = tf.placeholder(tf.float32)\n",
    "labels = tf.placeholder(tf.float32)\n",
    "\n",
    "n_hidden_layer_1 = 64\n",
    "\n",
    "weights = {\n",
    "    'hidden_layer_1': tf.Variable(tf.truncated_normal((features_count, n_hidden_layer_1), stddev=0.01)),\n",
    "    'out': tf.Variable(tf.truncated_normal((n_hidden_layer_1, labels_count), stddev=0.01))}\n",
    "\n",
    "biases = {\n",
    "    'hidden_layer_1': tf.Variable(tf.zeros((n_hidden_layer_1,))),\n",
    "    'out': tf.Variable(tf.zeros((labels_count,)))}\n",
    "\n",
    "train_feed_dict = {features: train_features, labels: train_labels}\n",
    "valid_feed_dict = {features: valid_features, labels: valid_labels}\n",
    "test_feed_dict = {features: test_features, labels: test_labels}\n",
    "\n",
    "hidden_layer_1 = tf.add(tf.matmul(features, weights['hidden_layer_1']), biases['hidden_layer_1'])\n",
    "hidden_layer_1 = tf.nn.relu(hidden_layer_1)\n",
    "\n",
    "logits = tf.add(tf.matmul(hidden_layer_1, weights['out']), biases['out'])\n",
    "prediction = tf.nn.softmax(logits)\n",
    "\n",
    "# Cross entropy\n",
    "cross_entropy = -tf.reduce_sum(labels * tf.log(prediction), reduction_indices=1)\n",
    "\n",
    "# Training loss\n",
    "loss = tf.reduce_mean(cross_entropy)\n",
    "\n",
    "# Initialize all tensorflow variables\n",
    "init = tf.initialize_all_variables()\n",
    "\n",
    "# Determine if the predictions are correct\n",
    "is_correct_prediction = tf.equal(tf.argmax(prediction, 1), tf.argmax(labels, 1))\n",
    "\n",
    "# Calculate the accuracy of the predictions\n",
    "accuracy = tf.reduce_mean(tf.cast(is_correct_prediction, tf.float32))                      "
   ]
  },
  {
   "cell_type": "markdown",
   "metadata": {},
   "source": [
    "### Question 3\n",
    "\n",
    "_What does your final architecture look like? (Type of model, layers, sizes, connectivity, etc.)  For reference on how to build a deep neural network using TensorFlow, see [Deep Neural Network in TensorFlow\n",
    "](https://classroom.udacity.com/nanodegrees/nd013/parts/fbf77062-5703-404e-b60c-95b78b2f3f9e/modules/6df7ae49-c61c-4bb2-a23e-6527e69209ec/lessons/b516a270-8600-4f93-a0a3-20dfeabe5da6/concepts/83a3a2a2-a9bd-4b7b-95b0-eb924ab14432) from the classroom._\n"
   ]
  },
  {
   "cell_type": "markdown",
   "metadata": {},
   "source": [
    "**Answer:**"
   ]
  },
  {
   "cell_type": "code",
   "execution_count": 95,
   "metadata": {
    "collapsed": false
   },
   "outputs": [
    {
     "name": "stderr",
     "output_type": "stream",
     "text": [
      "Epoch  1/30: 100%|██████████| 291/291 [00:02<00:00, 97.05batches/s]\n",
      "Epoch  2/30: 100%|██████████| 291/291 [00:02<00:00, 61.78batches/s]\n",
      "Epoch  3/30: 100%|██████████| 291/291 [00:02<00:00, 110.68batches/s]\n",
      "Epoch  4/30: 100%|██████████| 291/291 [00:02<00:00, 113.51batches/s]\n",
      "Epoch  5/30: 100%|██████████| 291/291 [00:02<00:00, 99.08batches/s]\n",
      "Epoch  6/30: 100%|██████████| 291/291 [00:02<00:00, 109.22batches/s]\n",
      "Epoch  7/30: 100%|██████████| 291/291 [00:02<00:00, 115.47batches/s]\n",
      "Epoch  8/30: 100%|██████████| 291/291 [00:02<00:00, 111.57batches/s]\n",
      "Epoch  9/30: 100%|██████████| 291/291 [00:02<00:00, 112.84batches/s]\n",
      "Epoch 10/30: 100%|██████████| 291/291 [00:02<00:00, 117.57batches/s]\n",
      "Epoch 11/30: 100%|██████████| 291/291 [00:02<00:00, 116.93batches/s]\n",
      "Epoch 12/30: 100%|██████████| 291/291 [00:02<00:00, 122.31batches/s]\n",
      "Epoch 13/30: 100%|██████████| 291/291 [00:02<00:00, 59.23batches/s]\n",
      "Epoch 14/30: 100%|██████████| 291/291 [00:02<00:00, 113.73batches/s]\n",
      "Epoch 15/30: 100%|██████████| 291/291 [00:02<00:00, 124.00batches/s]\n",
      "Epoch 16/30: 100%|██████████| 291/291 [00:02<00:00, 122.10batches/s]\n",
      "Epoch 17/30: 100%|██████████| 291/291 [00:02<00:00, 115.15batches/s]\n",
      "Epoch 18/30: 100%|██████████| 291/291 [00:02<00:00, 119.90batches/s]\n",
      "Epoch 19/30: 100%|██████████| 291/291 [00:02<00:00, 122.62batches/s]\n",
      "Epoch 20/30: 100%|██████████| 291/291 [00:02<00:00, 122.64batches/s]\n",
      "Epoch 21/30: 100%|██████████| 291/291 [00:02<00:00, 122.66batches/s]\n",
      "Epoch 22/30: 100%|██████████| 291/291 [00:02<00:00, 120.67batches/s]\n",
      "Epoch 23/30: 100%|██████████| 291/291 [00:02<00:00, 120.65batches/s]\n",
      "Epoch 24/30: 100%|██████████| 291/291 [00:02<00:00, 101.61batches/s]\n",
      "Epoch 25/30: 100%|██████████| 291/291 [00:02<00:00, 119.78batches/s]\n",
      "Epoch 26/30: 100%|██████████| 291/291 [00:02<00:00, 117.45batches/s]\n",
      "Epoch 27/30: 100%|██████████| 291/291 [00:02<00:00, 121.87batches/s]\n",
      "Epoch 28/30: 100%|██████████| 291/291 [00:02<00:00, 118.73batches/s]\n",
      "Epoch 29/30: 100%|██████████| 291/291 [00:02<00:00, 114.19batches/s]\n",
      "Epoch 30/30: 100%|██████████| 291/291 [00:02<00:00, 113.19batches/s]\n"
     ]
    },
    {
     "data": {
      "image/png": "[encoded data removed]",
      "text/plain": [
       "<matplotlib.figure.Figure at 0x109501908>"
      ]
     },
     "metadata": {},
     "output_type": "display_data"
    },
    {
     "name": "stdout",
     "output_type": "stream",
     "text": [
      "Validation accuracy at 0.7475777864456177\n"
     ]
    }
   ],
   "source": [
    "### Train your model here.\n",
    "### Feel free to use as many code cells as needed.\n",
    "import math\n",
    "import matplotlib.pyplot as plt\n",
    "\n",
    "epochs = 30\n",
    "batch_size = 128\n",
    "learning_rate = 0.009\n",
    "\n",
    "# Gradient Descent\n",
    "optimizer = tf.train.GradientDescentOptimizer(learning_rate).minimize(loss)\n",
    "\n",
    "# The accuracy measured against the validation set\n",
    "validation_accuracy = 0.0\n",
    "\n",
    "# Measurements use for graphing loss and accuracy\n",
    "log_batch_step = 50\n",
    "batches = []\n",
    "loss_batch = []\n",
    "train_acc_batch = []\n",
    "valid_acc_batch = []\n",
    "\n",
    "with tf.Session() as session:\n",
    "    session.run(init)\n",
    "    batch_count = int(math.ceil(len(train_features)/batch_size))\n",
    "\n",
    "    for epoch_i in range(epochs):\n",
    "        \n",
    "        # Progress bar\n",
    "        batches_pbar = tqdm(range(batch_count), desc='Epoch {:>2}/{}'.format(epoch_i+1, epochs), unit='batches')\n",
    "        \n",
    "        # The training cycle\n",
    "        for batch_i in batches_pbar:\n",
    "            # Get a batch of training features and labels\n",
    "            batch_start = batch_i*batch_size\n",
    "            batch_features = train_features[batch_start:batch_start + batch_size]\n",
    "            batch_labels = train_labels[batch_start:batch_start + batch_size]\n",
    "\n",
    "            # Run optimizer and get loss\n",
    "            _, l = session.run(\n",
    "                [optimizer, loss],\n",
    "                feed_dict={features: batch_features, labels: batch_labels})\n",
    "\n",
    "            # Log every 50 batches\n",
    "            if not batch_i % log_batch_step:\n",
    "                # Calculate Training and Validation accuracy\n",
    "                training_accuracy = session.run(accuracy, feed_dict=train_feed_dict)\n",
    "                validation_accuracy = session.run(accuracy, feed_dict=valid_feed_dict)\n",
    "\n",
    "                # Log batches\n",
    "                previous_batch = batches[-1] if batches else 0\n",
    "                batches.append(log_batch_step + previous_batch)\n",
    "                loss_batch.append(l)\n",
    "                train_acc_batch.append(training_accuracy)\n",
    "                valid_acc_batch.append(validation_accuracy)\n",
    "\n",
    "        # Check accuracy against Validation data\n",
    "        validation_accuracy = session.run(accuracy, feed_dict=valid_feed_dict)\n",
    "\n",
    "loss_plot = plt.subplot(211)\n",
    "loss_plot.set_title('Loss')\n",
    "loss_plot.plot(batches, loss_batch, 'g')\n",
    "loss_plot.set_xlim([batches[0], batches[-1]])\n",
    "acc_plot = plt.subplot(212)\n",
    "acc_plot.set_title('Accuracy')\n",
    "acc_plot.plot(batches, train_acc_batch, 'r', label='Training Accuracy')\n",
    "acc_plot.plot(batches, valid_acc_batch, 'b', label='Validation Accuracy')\n",
    "acc_plot.set_ylim([0, 1.0])\n",
    "acc_plot.set_xlim([batches[0], batches[-1]])\n",
    "acc_plot.legend(loc=4)\n",
    "plt.tight_layout()\n",
    "plt.show()\n",
    "\n",
    "print('Validation accuracy at {}'.format(validation_accuracy))"
   ]
  },
  {
   "cell_type": "markdown",
   "metadata": {},
   "source": [
    "### Question 4\n",
    "\n",
    "_How did you train your model? (Type of optimizer, batch size, epochs, hyperparameters, etc.)_\n"
   ]
  },
  {
   "cell_type": "markdown",
   "metadata": {},
   "source": [
    "**Answer:**"
   ]
  },
  {
   "cell_type": "markdown",
   "metadata": {},
   "source": [
    "### Question 5\n",
    "\n",
    "\n",
    "_What approach did you take in coming up with a solution to this problem?_"
   ]
  },
  {
   "cell_type": "markdown",
   "metadata": {},
   "source": [
    "**Answer:**"
   ]
  },
  {
   "cell_type": "markdown",
   "metadata": {},
   "source": [
    "---\n",
    "\n",
    "## Step 3: Test a Model on New Images\n",
    "\n",
    "Take several pictures of traffic signs that you find on the web or around you (at least five), and run them through your classifier on your computer to produce example results. The classifier might not recognize some local signs but it could prove interesting nonetheless.\n",
    "\n",
    "You may find `signnames.csv` useful as it contains mappings from the class id (integer) to the actual sign name."
   ]
  },
  {
   "cell_type": "markdown",
   "metadata": {},
   "source": [
    "### Implementation\n",
    "\n",
    "Use the code cell (or multiple code cells, if necessary) to implement the first step of your project. Once you have completed your implementation and are satisfied with the results, be sure to thoroughly answer the questions that follow."
   ]
  },
  {
   "cell_type": "code",
   "execution_count": 3,
   "metadata": {
    "collapsed": true
   },
   "outputs": [],
   "source": [
    "### Load the images and plot them here.\n",
    "### Feel free to use as many code cells as needed."
   ]
  },
  {
   "cell_type": "markdown",
   "metadata": {},
   "source": [
    "### Question 6\n",
    "\n",
    "_Choose five candidate images of traffic signs and provide them in the report. Are there any particular qualities of the image(s) that might make classification difficult? It would be helpful to plot the images in the notebook._\n",
    "\n"
   ]
  },
  {
   "cell_type": "markdown",
   "metadata": {},
   "source": [
    "**Answer:**"
   ]
  },
  {
   "cell_type": "code",
   "execution_count": 4,
   "metadata": {
    "collapsed": true
   },
   "outputs": [],
   "source": [
    "### Run the predictions here.\n",
    "### Feel free to use as many code cells as needed."
   ]
  },
  {
   "cell_type": "markdown",
   "metadata": {},
   "source": [
    "### Question 7\n",
    "\n",
    "_Is your model able to perform equally well on captured pictures or a live camera stream when compared to testing on the dataset?_\n"
   ]
  },
  {
   "cell_type": "markdown",
   "metadata": {},
   "source": [
    "**Answer:**"
   ]
  },
  {
   "cell_type": "code",
   "execution_count": null,
   "metadata": {
    "collapsed": true
   },
   "outputs": [],
   "source": [
    "### Visualize the softmax probabilities here.\n",
    "### Feel free to use as many code cells as needed."
   ]
  },
  {
   "cell_type": "markdown",
   "metadata": {},
   "source": [
    "### Question 8\n",
    "\n",
    "*Use the model's softmax probabilities to visualize the **certainty** of its predictions, [`tf.nn.top_k`](https://www.tensorflow.org/versions/r0.11/api_docs/python/nn.html#top_k) could prove helpful here. Which predictions is the model certain of? Uncertain? If the model was incorrect in its initial prediction, does the correct prediction appear in the top k? (k should be 5 at most)*\n"
   ]
  },
  {
   "cell_type": "markdown",
   "metadata": {},
   "source": [
    "**Answer:**"
   ]
  },
  {
   "cell_type": "markdown",
   "metadata": {},
   "source": [
    "### Question 9\n",
    "_If necessary, provide documentation for how an interface was built for your model to load and classify newly-acquired images._\n"
   ]
  },
  {
   "cell_type": "markdown",
   "metadata": {},
   "source": [
    "**Answer:**"
   ]
  },
  {
   "cell_type": "markdown",
   "metadata": {},
   "source": [
    "> **Note**: Once you have completed all of the code implementations and successfully answered each question above, you may finalize your work by exporting the iPython Notebook as an HTML document. You can do this by using the menu above and navigating to  \\n\",\n",
    "    \"**File -> Download as -> HTML (.html)**. Include the finished document along with this notebook as your submission."
   ]
  },
  {
   "cell_type": "code",
   "execution_count": null,
   "metadata": {
    "collapsed": true
   },
   "outputs": [],
   "source": []
  }
 ],
 "metadata": {
  "anaconda-cloud": {},
  "kernelspec": {
   "display_name": "Python [default]",
   "language": "python",
   "name": "python3"
  },
  "language_info": {
   "codemirror_mode": {
    "name": "ipython",
    "version": 3
   },
   "file_extension": ".py",
   "mimetype": "text/x-python",
   "name": "python",
   "nbconvert_exporter": "python",
   "pygments_lexer": "ipython3",
   "version": "3.5.2"
  },
  "widgets": {
   "state": {
    "059970a6ce114a289a8cb648ba1c73d2": {
     "views": [
      {
       "cell_index": 7
      }
     ]
    },
    "106d5b3426f147b884568ee436da2f29": {
     "views": [
      {
       "cell_index": 7
      }
     ]
    },
    "4cce8b868300421a8a86ffa746dfb5d0": {
     "views": [
      {
       "cell_index": 7
      }
     ]
    },
    "6637bd07c7be4006ba5b1d1132ab2002": {
     "views": [
      {
       "cell_index": 7
      }
     ]
    },
    "766b6a93c9c9482398a6f84cd23c4bbc": {
     "views": [
      {
       "cell_index": 7
      }
     ]
    },
    "8ee5138761be4888a7c49eed6c9c2c71": {
     "views": [
      {
       "cell_index": 7
      }
     ]
    },
    "bdd5ca6c6b914f46b3bc919271d7fd59": {
     "views": [
      {
       "cell_index": 7
      }
     ]
    },
    "d0bc0553e7474ae9a999db5a8519dbfe": {
     "views": [
      {
       "cell_index": 7
      }
     ]
    }
   },
   "version": "1.2.0"
  }
 },
 "nbformat": 4,
 "nbformat_minor": 1
}
